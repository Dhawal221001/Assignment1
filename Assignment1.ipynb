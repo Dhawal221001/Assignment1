{
 "cells": [
  {
   "cell_type": "markdown",
   "id": "46cb0b7a-774a-4908-bade-b24e03fefe4f",
   "metadata": {},
   "source": [
    "## Q1. What are the characteristics of the tuples? Is tuple immutable?"
   ]
  },
  {
   "cell_type": "markdown",
   "id": "1fde1698-bae7-497f-be7a-211b42b8d1fe",
   "metadata": {},
   "source": [
    "### The characteristics of Tuples are:\n",
    "###    1.It has open bracket ;().\n",
    "###    2.It has Indexing; starting from 0.\n",
    "###    3.Tuples are odered.\n",
    "### Yes tuple are immutable i.e. original tuple can't be edited."
   ]
  },
  {
   "cell_type": "markdown",
   "id": "0227769f-295d-4218-9f96-e35a55f4030f",
   "metadata": {},
   "source": [
    "## Q2. What are the two tuple methods in python? Give an example of each method. Give a reason why\n",
    "## tuples have only two in-built methods as compared to Lists."
   ]
  },
  {
   "cell_type": "markdown",
   "id": "5482421e-4f6f-439e-b878-3f1b73aaad29",
   "metadata": {},
   "source": [
    "### The two tuple methods are .count() and .index() \n"
   ]
  },
  {
   "cell_type": "code",
   "execution_count": 4,
   "id": "d141b49c-15df-4e04-b201-7011bd346314",
   "metadata": {},
   "outputs": [
    {
     "data": {
      "text/plain": [
       "tuple"
      ]
     },
     "execution_count": 4,
     "metadata": {},
     "output_type": "execute_result"
    }
   ],
   "source": [
    "tup=(1,2,3,4,3,2,5,2)\n",
    "type(tup)"
   ]
  },
  {
   "cell_type": "code",
   "execution_count": 5,
   "id": "583d01d9-49fc-462d-b35e-100e50b89c2b",
   "metadata": {},
   "outputs": [
    {
     "data": {
      "text/plain": [
       "3"
      ]
     },
     "execution_count": 5,
     "metadata": {},
     "output_type": "execute_result"
    }
   ],
   "source": [
    "tup.count(2)"
   ]
  },
  {
   "cell_type": "code",
   "execution_count": 8,
   "id": "25e4a48d-9697-44c4-97a7-02b467056677",
   "metadata": {},
   "outputs": [
    {
     "data": {
      "text/plain": [
       "6"
      ]
     },
     "execution_count": 8,
     "metadata": {},
     "output_type": "execute_result"
    }
   ],
   "source": [
    "tup.index(5)"
   ]
  },
  {
   "cell_type": "markdown",
   "id": "31ec45cc-6d09-4063-b886-3d0cc5a3aca7",
   "metadata": {},
   "source": [
    "### Tuples has only two in built methods because it is immutable. So most of the list methods cannot be apply here."
   ]
  },
  {
   "cell_type": "markdown",
   "id": "00b5c1be-2a39-42ed-b8ce-663e6ebbf9b5",
   "metadata": {},
   "source": [
    "## Q3. Which collection datatypes in python do not allow duplicate items? Write a code using a set to remove\n",
    "## duplicates from the given list.\n",
    "## List = [1, 1, 1, 2, 1, 3, 1, 4, 2, 1, 2, 2, 2, 3, 2, 4, 3, 1, 3, 2, 3, 3, 3, 4, 4, 1, 4, 2, 4, 3, 4, 4]"
   ]
  },
  {
   "cell_type": "markdown",
   "id": "40e98f8c-ec3f-4540-9fd9-51967920a4d6",
   "metadata": {},
   "source": [
    "### Set is a datatype in python that do not allow duplicate items.\n"
   ]
  },
  {
   "cell_type": "code",
   "execution_count": 11,
   "id": "fabd5bd9-e32f-4ea2-bc28-875f43d82aa3",
   "metadata": {},
   "outputs": [],
   "source": [
    "List = [1, 1, 1, 2, 1, 3, 1, 4, 2, 1, 2, 2, 2, 3, 2, 4, 3, 1, 3, 2, 3, 3, 3, 4, 4, 1, 4, 2, 4, 3, 4, 4]\n",
    "s1=set(List)"
   ]
  },
  {
   "cell_type": "code",
   "execution_count": 12,
   "id": "02adefff-48f3-4a6f-aa9a-d681e6048fb1",
   "metadata": {},
   "outputs": [
    {
     "data": {
      "text/plain": [
       "{1, 2, 3, 4}"
      ]
     },
     "execution_count": 12,
     "metadata": {},
     "output_type": "execute_result"
    }
   ],
   "source": [
    "s1"
   ]
  },
  {
   "cell_type": "code",
   "execution_count": 14,
   "id": "ed1ffb92-333c-4e90-beaf-8f7c822a26fa",
   "metadata": {},
   "outputs": [
    {
     "data": {
      "text/plain": [
       "[1, 2, 3, 4]"
      ]
     },
     "execution_count": 14,
     "metadata": {},
     "output_type": "execute_result"
    }
   ],
   "source": [
    "\"\"\"Updated List\"\"\"\n",
    "List=list(s1)\n",
    "List"
   ]
  },
  {
   "cell_type": "markdown",
   "id": "d828a3fc-1e6f-4cc3-bb97-9a1b0880128c",
   "metadata": {},
   "source": [
    "## Q4. Explain the difference between the union() and update() methods for a set. Give an example of\n",
    "## each method."
   ]
  },
  {
   "cell_type": "markdown",
   "id": "cbd35683-23c9-4a57-96fc-017e6949f6c6",
   "metadata": {},
   "source": [
    "### The difference between union and update is that\n",
    "### union() returns the union of the set and set given in parameter. And didn't effect the original sets.\n",
    "### while update() returns none but update the set on which the method is applied by union of itself and set given in parameter"
   ]
  },
  {
   "cell_type": "code",
   "execution_count": 32,
   "id": "a53d8738-eaf4-4e8c-a08d-f55c370e3833",
   "metadata": {},
   "outputs": [],
   "source": [
    "s1={1,\"a\",44,54.56}\n",
    "s2={1,\"b\",90,0}"
   ]
  },
  {
   "cell_type": "code",
   "execution_count": 33,
   "id": "1e7dd800-d8fb-4341-93e6-9e19ec6679ac",
   "metadata": {},
   "outputs": [
    {
     "data": {
      "text/plain": [
       "{0, 1, 44, 54.56, 90, 'a', 'b'}"
      ]
     },
     "execution_count": 33,
     "metadata": {},
     "output_type": "execute_result"
    }
   ],
   "source": [
    "s1.union(s2)"
   ]
  },
  {
   "cell_type": "code",
   "execution_count": 34,
   "id": "fe70455b-d842-472c-8eab-cdc2c91bb27a",
   "metadata": {},
   "outputs": [
    {
     "data": {
      "text/plain": [
       "{1, 44, 54.56, 'a'}"
      ]
     },
     "execution_count": 34,
     "metadata": {},
     "output_type": "execute_result"
    }
   ],
   "source": [
    "s1"
   ]
  },
  {
   "cell_type": "code",
   "execution_count": 35,
   "id": "b3fc99b7-2282-497d-bbda-4a844e6a8a79",
   "metadata": {},
   "outputs": [],
   "source": [
    "s1.update(s2)"
   ]
  },
  {
   "cell_type": "code",
   "execution_count": 36,
   "id": "255ae22b-6218-416d-a1f6-a9b686b3363a",
   "metadata": {},
   "outputs": [
    {
     "data": {
      "text/plain": [
       "{0, 1, 44, 54.56, 90, 'a', 'b'}"
      ]
     },
     "execution_count": 36,
     "metadata": {},
     "output_type": "execute_result"
    }
   ],
   "source": [
    "s1"
   ]
  },
  {
   "cell_type": "code",
   "execution_count": 37,
   "id": "b9d73565-7612-4ee8-9f85-86c22e2b0ac4",
   "metadata": {},
   "outputs": [
    {
     "data": {
      "text/plain": [
       "{0, 1, 90, 'b'}"
      ]
     },
     "execution_count": 37,
     "metadata": {},
     "output_type": "execute_result"
    }
   ],
   "source": [
    "s2"
   ]
  },
  {
   "cell_type": "markdown",
   "id": "0986e7a9-34cf-42b1-a971-97e30d356a3c",
   "metadata": {},
   "source": [
    "### Q5. What is a dictionary? Give an example. Also, state whether a dictionary is ordered or unordered."
   ]
  },
  {
   "cell_type": "markdown",
   "id": "21f8ca29-5c5b-40de-a07b-7257a912223e",
   "metadata": {},
   "source": [
    "### It is a datatype in python in which data is stored in key:value pairs.Keys and Values are seperated by : . And two different pair is seperated by comma."
   ]
  },
  {
   "cell_type": "code",
   "execution_count": 39,
   "id": "5637d985-92d4-4a24-a2f8-9bc02f1e37aa",
   "metadata": {},
   "outputs": [
    {
     "data": {
      "text/plain": [
       "dict"
      ]
     },
     "execution_count": 39,
     "metadata": {},
     "output_type": "execute_result"
    }
   ],
   "source": [
    "d1={1:\"Aarav\",2:\"Bhauvk\",3:\"Dhawal\"}\n",
    "type(d1)"
   ]
  },
  {
   "cell_type": "markdown",
   "id": "98628d89-5803-4e6a-b17f-4222cb119cc1",
   "metadata": {},
   "source": [
    "### Dictionaries are ordered."
   ]
  },
  {
   "cell_type": "markdown",
   "id": "17a526f1-ae32-42e1-a7fe-d3346024794b",
   "metadata": {},
   "source": [
    "## Q6. Can we create a nested dictionary? If so, please give an example by creating a simple one-level\n",
    "## nested dictionary."
   ]
  },
  {
   "cell_type": "markdown",
   "id": "3709adb4-ee16-4be4-8c86-d041d211d5f3",
   "metadata": {},
   "source": [
    "### Yes, nested dictionaries can be created, if 'values' is a dictionary."
   ]
  },
  {
   "cell_type": "code",
   "execution_count": 40,
   "id": "5f48c821-7fd7-4a6c-a743-dcce56076877",
   "metadata": {},
   "outputs": [],
   "source": [
    "\"\"\" Example\"\"\"\n",
    "d2={\"Dhawal\":{\"email\":\"dwl@gmail.com\",\"class\":10},\"Hariom\":{\"email\":\"hro@gmail.com\",\"class\":11}}"
   ]
  },
  {
   "cell_type": "code",
   "execution_count": 41,
   "id": "c07613ad-d413-4095-b36c-c2893788d01b",
   "metadata": {},
   "outputs": [
    {
     "data": {
      "text/plain": [
       "{'Dhawal': {'email': 'dwl@gmail.com', 'class': 10},\n",
       " 'Hariom': {'email': 'hro@gmail.com', 'class': 11}}"
      ]
     },
     "execution_count": 41,
     "metadata": {},
     "output_type": "execute_result"
    }
   ],
   "source": [
    "d2"
   ]
  },
  {
   "cell_type": "code",
   "execution_count": 42,
   "id": "3e01601c-b054-4583-823c-20eae7c79d3b",
   "metadata": {},
   "outputs": [
    {
     "data": {
      "text/plain": [
       "dict"
      ]
     },
     "execution_count": 42,
     "metadata": {},
     "output_type": "execute_result"
    }
   ],
   "source": [
    "type(d2)"
   ]
  },
  {
   "cell_type": "code",
   "execution_count": 43,
   "id": "30a24fce-c6d0-4a37-b119-dcb0850db459",
   "metadata": {},
   "outputs": [
    {
     "data": {
      "text/plain": [
       "{'email': 'dwl@gmail.com', 'class': 10}"
      ]
     },
     "execution_count": 43,
     "metadata": {},
     "output_type": "execute_result"
    }
   ],
   "source": [
    "d2[\"Dhawal\"]"
   ]
  },
  {
   "cell_type": "code",
   "execution_count": 44,
   "id": "4b41dc62-0de5-4365-b994-401ae29e391a",
   "metadata": {},
   "outputs": [
    {
     "data": {
      "text/plain": [
       "dict"
      ]
     },
     "execution_count": 44,
     "metadata": {},
     "output_type": "execute_result"
    }
   ],
   "source": [
    "type(d2[\"Dhawal\"])"
   ]
  },
  {
   "cell_type": "markdown",
   "id": "ab41b6a3-abda-4afb-bfc8-3668d7dac631",
   "metadata": {},
   "source": [
    "### Q7. Using setdefault() method, create key named topics in the given dictionary and also add the value of\n",
    "### the key as this list ['Python', 'Machine Learning’, 'Deep Learning']\n",
    "### dict1 = {'language' : 'Python', 'course': 'Data Science Masters'}"
   ]
  },
  {
   "cell_type": "code",
   "execution_count": 60,
   "id": "81646c79-772e-43c7-95a5-980c075f46cc",
   "metadata": {},
   "outputs": [],
   "source": [
    "dict1 = {'language' : 'Python', 'course': 'Data Science Masters'}"
   ]
  },
  {
   "cell_type": "code",
   "execution_count": 61,
   "id": "4e1aab3c-4b81-41cf-8bec-f5f862a3d180",
   "metadata": {},
   "outputs": [
    {
     "data": {
      "text/plain": [
       "{'language': 'Python', 'course': 'Data Science Masters'}"
      ]
     },
     "execution_count": 61,
     "metadata": {},
     "output_type": "execute_result"
    }
   ],
   "source": [
    "dict1"
   ]
  },
  {
   "cell_type": "code",
   "execution_count": 62,
   "id": "69722dab-0981-48cd-87ba-7c6bd64383f8",
   "metadata": {},
   "outputs": [
    {
     "data": {
      "text/plain": [
       "['Python', 'Machine Learning', 'Deep Learning']"
      ]
     },
     "execution_count": 62,
     "metadata": {},
     "output_type": "execute_result"
    }
   ],
   "source": [
    "dict1.setdefault(\"topics\",['Python','Machine Learning','Deep Learning'])"
   ]
  },
  {
   "cell_type": "code",
   "execution_count": 63,
   "id": "4e3c537c-3018-404e-a88d-1b0e3dd55933",
   "metadata": {},
   "outputs": [
    {
     "data": {
      "text/plain": [
       "{'language': 'Python',\n",
       " 'course': 'Data Science Masters',\n",
       " 'topics': ['Python', 'Machine Learning', 'Deep Learning']}"
      ]
     },
     "execution_count": 63,
     "metadata": {},
     "output_type": "execute_result"
    }
   ],
   "source": [
    "dict1"
   ]
  },
  {
   "cell_type": "code",
   "execution_count": 64,
   "id": "320024b1-ec0f-4979-aa15-8b3ba79d6bb3",
   "metadata": {},
   "outputs": [
    {
     "data": {
      "text/plain": [
       "list"
      ]
     },
     "execution_count": 64,
     "metadata": {},
     "output_type": "execute_result"
    }
   ],
   "source": [
    "type(dict1[\"topics\"])"
   ]
  },
  {
   "cell_type": "markdown",
   "id": "6379ba24-3268-4238-8780-ac08f5807a44",
   "metadata": {},
   "source": [
    "### Q8. What are the three view objects in dictionaries? Use the three in-built methods in python to display\n",
    "### these three view objects for the given dictionary.\n",
    "### dict1 = {'Sport': 'Cricket' , 'Teams': ['India', 'Australia', 'England', 'South Africa', 'Sri Lanka', 'New Zealand']}"
   ]
  },
  {
   "cell_type": "markdown",
   "id": "537008ea-ccfe-45ef-8346-f8471e79d3af",
   "metadata": {},
   "source": [
    "### The three view inbuilt objects in python are:\n",
    "### .keys()\n",
    "### .values()\n",
    "### .items()"
   ]
  },
  {
   "cell_type": "code",
   "execution_count": 66,
   "id": "9857eed6-ecc6-468b-8599-0f91e80e5963",
   "metadata": {},
   "outputs": [],
   "source": [
    "dict1 = {'Sport': 'Cricket' , 'Teams': ['India', 'Australia', 'England', 'South Africa', 'Sri Lanka', 'New Zealand']}"
   ]
  },
  {
   "cell_type": "code",
   "execution_count": 67,
   "id": "212c7a78-9c15-4cd0-bcee-b4174ad7ce69",
   "metadata": {},
   "outputs": [
    {
     "data": {
      "text/plain": [
       "dict_keys(['Sport', 'Teams'])"
      ]
     },
     "execution_count": 67,
     "metadata": {},
     "output_type": "execute_result"
    }
   ],
   "source": [
    "dict1.keys()"
   ]
  },
  {
   "cell_type": "code",
   "execution_count": 68,
   "id": "720e59fb-14c6-4f48-8153-2bdee07eedf8",
   "metadata": {},
   "outputs": [
    {
     "data": {
      "text/plain": [
       "dict_values(['Cricket', ['India', 'Australia', 'England', 'South Africa', 'Sri Lanka', 'New Zealand']])"
      ]
     },
     "execution_count": 68,
     "metadata": {},
     "output_type": "execute_result"
    }
   ],
   "source": [
    "dict1.values()"
   ]
  },
  {
   "cell_type": "code",
   "execution_count": 69,
   "id": "780f0b7c-a379-442b-94c2-5aecf7153f06",
   "metadata": {},
   "outputs": [
    {
     "data": {
      "text/plain": [
       "dict_items([('Sport', 'Cricket'), ('Teams', ['India', 'Australia', 'England', 'South Africa', 'Sri Lanka', 'New Zealand'])])"
      ]
     },
     "execution_count": 69,
     "metadata": {},
     "output_type": "execute_result"
    }
   ],
   "source": [
    "dict1.items()"
   ]
  },
  {
   "cell_type": "code",
   "execution_count": null,
   "id": "7e35faae-2bf6-45a4-9212-ed784862f994",
   "metadata": {},
   "outputs": [],
   "source": []
  }
 ],
 "metadata": {
  "kernelspec": {
   "display_name": "Python 3 (ipykernel)",
   "language": "python",
   "name": "python3"
  },
  "language_info": {
   "codemirror_mode": {
    "name": "ipython",
    "version": 3
   },
   "file_extension": ".py",
   "mimetype": "text/x-python",
   "name": "python",
   "nbconvert_exporter": "python",
   "pygments_lexer": "ipython3",
   "version": "3.10.8"
  }
 },
 "nbformat": 4,
 "nbformat_minor": 5
}
